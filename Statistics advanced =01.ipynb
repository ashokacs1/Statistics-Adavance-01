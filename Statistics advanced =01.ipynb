{
 "cells": [
  {
   "cell_type": "markdown",
   "id": "9392301b",
   "metadata": {},
   "source": [
    "# Q1. What is the Probability density function?"
   ]
  },
  {
   "cell_type": "markdown",
   "id": "b86e463e",
   "metadata": {},
   "source": [
    "A Probability Density Function (PDF) is a mathematical function that describes the likelihood of a continuous random variable taking on a specific value. In simpler terms, it tells you the probability of a variable falling within a certain range.\n",
    "\n",
    "Think of it this way: Imagine you have a random variable, like the height of people in a population. The PDF for this variable would give you a curve or function that shows how likely it is for a person's height to be within a particular range. For example, it might tell you that the probability of someone's height being between 5 feet and 6 feet is higher than the probability of it being between 6 feet and 7 feet.\n",
    "\n",
    "So, a PDF is a way to represent the probabilities of different outcomes for a continuous random variable, and it's often used in statistics and probability to understand and work with such variables."
   ]
  },
  {
   "cell_type": "markdown",
   "id": "e23fa369",
   "metadata": {},
   "source": [
    "# Q2. What are the types of Probability distribution?"
   ]
  },
  {
   "cell_type": "markdown",
   "id": "aa303161",
   "metadata": {},
   "source": [
    "There are several types of probability distributions, and they can be broadly categorized into two main groups: discrete probability distributions and continuous probability distributions.\n",
    "\n",
    "1. **Discrete Probability Distributions:**\n",
    "   - **Bernoulli Distribution:** Models a binary outcome (success/failure) with a single trial.\n",
    "   - **Binomial Distribution:** Describes the number of successes in a fixed number of independent Bernoulli trials.\n",
    "   - **Poisson Distribution:** Models the number of events occurring in a fixed interval of time or space.\n",
    "   - **Geometric Distribution:** Represents the number of trials needed for the first success in a sequence of independent Bernoulli trials.\n",
    "\n",
    "2. **Continuous Probability Distributions:**\n",
    "   - **Normal Distribution (Gaussian Distribution):** Forms a symmetric bell-shaped curve and is widely used to model many real-world phenomena due to the central limit theorem.\n",
    "   - **Uniform Distribution:** All values in a given interval have equal probability.\n",
    "   - **Exponential Distribution:** Models the time between events in a Poisson process.\n",
    "   - **Gamma Distribution:** Generalizes the exponential distribution and is used for modeling waiting times and more.\n",
    "   - **Beta Distribution:** Represents probabilities for events that have a limited range, often used for modeling proportions.\n",
    "   - **Cauchy Distribution:** Has heavy tails and no defined mean or variance.\n",
    "   - **Log-Normal Distribution:** Represents data that is positively skewed after taking the natural logarithm.\n",
    "   - **Weibull Distribution:** Models reliability and life data, often used in engineering.\n",
    "\n",
    "These are some of the most common probability distributions, and each has its specific characteristics and use cases in statistics, mathematics, and various fields such as physics, engineering, finance, and more."
   ]
  },
  {
   "cell_type": "markdown",
   "id": "c67f4f3e",
   "metadata": {},
   "source": [
    "# Q3. Write a Python function to calculate the probability density function of a normal distribution with given mean and standard deviation at a given point."
   ]
  },
  {
   "cell_type": "code",
   "execution_count": 2,
   "id": "be621381",
   "metadata": {},
   "outputs": [
    {
     "name": "stdout",
     "output_type": "stream",
     "text": [
      "PDF at x = 1.5: 0.12951759566589174\n"
     ]
    }
   ],
   "source": [
    "import scipy.stats\n",
    "\n",
    "def normal_pdf(mean, std_dev, x):\n",
    "    \"\"\"\n",
    "    Calculate the Probability Density Function (PDF) of a normal distribution at a given point 'x'.\n",
    "\n",
    "    :param mean: Mean of the normal distribution.\n",
    "    :param std_dev: Standard deviation of the normal distribution.\n",
    "    :param x: The point at which to calculate the PDF.\n",
    "    :return: PDF value at the given point 'x'.\n",
    "    \"\"\"\n",
    "    pdf_value = scipy.stats.norm.pdf(x, loc=mean, scale=std_dev)\n",
    "    return pdf_value\n",
    "\n",
    "# Example usage:\n",
    "mean = 0\n",
    "std_dev = 1\n",
    "x_value = 1.5\n",
    "pdf_at_x = normal_pdf(mean, std_dev, x_value)\n",
    "print(f\"PDF at x = {x_value}: {pdf_at_x}\")\n"
   ]
  },
  {
   "cell_type": "code",
   "execution_count": 4,
   "id": "4374342f",
   "metadata": {},
   "outputs": [
    {
     "data": {
      "text/plain": [
       "0.06923746723578919"
      ]
     },
     "execution_count": 4,
     "metadata": {},
     "output_type": "execute_result"
    }
   ],
   "source": [
    "normal_pdf(3,4.7,6)"
   ]
  },
  {
   "cell_type": "markdown",
   "id": "e945ea4c",
   "metadata": {},
   "source": [
    "# Q4. What are the properties of Binomial distribution? Give two examples of events where binomial distribution can be applied."
   ]
  },
  {
   "cell_type": "markdown",
   "id": "c0a4ddeb",
   "metadata": {},
   "source": [
    "The Binomial distribution is a discrete probability distribution that models the number of successes (usually denoted as \"k\") in a fixed number of independent Bernoulli trials, where each trial can result in one of two outcomes (often called \"success\" and \"failure\"). The Binomial distribution has several important properties:\n",
    "\n",
    "1. **Fixed Number of Trials (n):** The distribution assumes a fixed number of trials or experiments, denoted as 'n'.\n",
    "\n",
    "2. **Two Possible Outcomes:** Each trial has two possible outcomes: success (usually denoted as 'p') or failure (usually denoted as 'q', where q = 1 - p).\n",
    "\n",
    "3. **Independence:** Each trial is assumed to be independent of the others.\n",
    "\n",
    "4. **Constant Probability of Success:** The probability of success 'p' remains constant across all trials.\n",
    "\n",
    "5. **Discrete:** The Binomial distribution deals with discrete data, meaning that the number of successes 'k' can only take on whole number values (0, 1, 2, ...).\n",
    "\n",
    "6. **Probability Mass Function:** The probability mass function (PMF) of the Binomial distribution is given by the formula: P(X = k) = (n choose k) * p^k * q^(n-k), where 'n choose k' represents binomial coefficients.\n",
    "\n",
    "Two examples of events where the Binomial distribution can be applied are:\n",
    "\n",
    "1. **Coin Flipping:** When flipping a biased coin 'n' times (with a known probability 'p' of getting heads), you can use the Binomial distribution to model the number of heads obtained in those 'n' flips.\n",
    "\n",
    "2. **Manufacturing Quality Control:** In a manufacturing process where items are produced with a certain defect rate (probability of defects 'p'), you can use the Binomial distribution to model the number of defective items in a sample of 'n' products randomly selected from the production line.\n",
    "\n",
    "In both cases, the Binomial distribution helps calculate the probability of obtaining a specific number of successes (e.g., heads or defective items) out of a fixed number of trials or samples (n), given a known probability of success (p) for each trial."
   ]
  },
  {
   "cell_type": "markdown",
   "id": "ad84e730",
   "metadata": {},
   "source": [
    "# Q5. Generate a random sample of size 1000 from a binomial distribution with probability of success 0.4 and plot a histogram of the results using matplotlib."
   ]
  },
  {
   "cell_type": "code",
   "execution_count": 5,
   "id": "e746a0ac",
   "metadata": {},
   "outputs": [
    {
     "data": {
      "image/png": "[encoded data removed]",
      "text/plain": [
       "<Figure size 640x480 with 1 Axes>"
      ]
     },
     "metadata": {},
     "output_type": "display_data"
    }
   ],
   "source": [
    "import numpy as np\n",
    "import matplotlib.pyplot as plt\n",
    "\n",
    "# Set the parameters\n",
    "sample_size = 1000\n",
    "probability_of_success = 0.4\n",
    "\n",
    "# Generate the random sample\n",
    "binomial_sample = np.random.binomial(1, probability_of_success, sample_size)\n",
    "\n",
    "# Plot a histogram of the results\n",
    "plt.hist(binomial_sample, bins=2, edgecolor='k', alpha=0.5, color='skyblue')\n",
    "plt.xlabel('Success (1) or Failure (0)')\n",
    "plt.ylabel('Frequency')\n",
    "plt.title(f'Binomial Distribution with p={probability_of_success}')\n",
    "plt.xticks([0, 1])\n",
    "plt.show()\n"
   ]
  },
  {
   "cell_type": "markdown",
   "id": "a59d654f",
   "metadata": {},
   "source": [
    "# Q6. Write a Python function to calculate the cumulative distribution function of a Poisson distribution with given mean at a given point."
   ]
  },
  {
   "cell_type": "code",
   "execution_count": 6,
   "id": "9ae8e037",
   "metadata": {},
   "outputs": [
    {
     "name": "stdout",
     "output_type": "stream",
     "text": [
      "CDF at k = 2: 0.42319008112684364\n"
     ]
    }
   ],
   "source": [
    "import scipy.stats\n",
    "\n",
    "def poisson_cdf(mean, k):\n",
    "    \"\"\"\n",
    "    Calculate the Cumulative Distribution Function (CDF) of a Poisson distribution at a given point 'k'.\n",
    "\n",
    "    :param mean: Mean of the Poisson distribution.\n",
    "    :param k: The point at which to calculate the CDF.\n",
    "    :return: CDF value at the given point 'k'.\n",
    "    \"\"\"\n",
    "    cdf_value = scipy.stats.poisson.cdf(k, mu=mean)\n",
    "    return cdf_value\n",
    "\n",
    "# Example usage:\n",
    "mean = 3\n",
    "k_value = 2\n",
    "cdf_at_k = poisson_cdf(mean, k_value)\n",
    "print(f\"CDF at k = {k_value}: {cdf_at_k}\")\n"
   ]
  },
  {
   "cell_type": "markdown",
   "id": "39d27896",
   "metadata": {},
   "source": [
    "# Q7. How Binomial distribution different from Poisson distribution?"
   ]
  },
  {
   "cell_type": "markdown",
   "id": "e72a52b2",
   "metadata": {},
   "source": [
    "The Binomial and Poisson distributions are both probability distributions used to model the number of events or successes in a series of trials or experiments, but they have different characteristics and are used in different situations. Here are the key differences between the Binomial and Poisson distributions:\n",
    "\n",
    "1. **Number of Trials:**\n",
    "   - **Binomial Distribution:** In the Binomial distribution, the number of trials 'n' is fixed and known in advance. It represents a fixed number of independent trials, each with two possible outcomes (success and failure).\n",
    "   - **Poisson Distribution:** In the Poisson distribution, there is no fixed number of trials. It models the number of events that occur in a fixed interval of time or space. The number of trials is not predetermined but occurs randomly.\n",
    "\n",
    "2. **Nature of Trials:**\n",
    "   - **Binomial Distribution:** Each trial in the Binomial distribution has two possible outcomes (success and failure) and is independent of the others. The probability of success 'p' is constant for each trial.\n",
    "   - **Poisson Distribution:** The Poisson distribution is often used to model rare events in a continuous or time-based setting. It assumes that events occur independently in a continuous stream, with a low probability of an event occurring in a very small time interval.\n",
    "\n",
    "3. **Parameters:**\n",
    "   - **Binomial Distribution:** The Binomial distribution is defined by two parameters: the number of trials 'n' and the probability of success 'p' on each trial.\n",
    "   - **Poisson Distribution:** The Poisson distribution is defined by a single parameter, the average rate of event occurrences 'λ' (lambda) in a given interval.\n",
    "\n",
    "4. **Outcome Values:**\n",
    "   - **Binomial Distribution:** The Binomial distribution deals with discrete outcomes. The number of successes can only take on integer values, such as 0, 1, 2, etc.\n",
    "   - **Poisson Distribution:** The Poisson distribution also deals with discrete outcomes, representing the count of events in a given interval.\n",
    "\n",
    "5. **Use Cases:**\n",
    "   - **Binomial Distribution:** The Binomial distribution is used when you have a fixed number of trials, each with a known probability of success, and you want to model the number of successes in those trials. It's suitable for scenarios like coin flips, quality control, or the number of people clicking on an advertisement.\n",
    "   - **Poisson Distribution:** The Poisson distribution is used when you want to model the number of rare events happening in a continuous or time-based setting. It's applicable to scenarios like the number of phone calls at a call center in an hour, the number of emails received per day, or the number of car accidents at an intersection over a day.\n",
    "\n",
    "In summary, the choice between the Binomial and Poisson distributions depends on the nature of the data and the context in which you want to model event occurrences or successes. The Binomial distribution is for a fixed number of trials, while the Poisson distribution is for modeling rare, random events with no predetermined number of trials."
   ]
  },
  {
   "cell_type": "markdown",
   "id": "0cbe92d5",
   "metadata": {},
   "source": [
    "# Q8. Generate a random sample of size 1000 from a Poisson distribution with mean 5 and calculate the sample mean and variance."
   ]
  },
  {
   "cell_type": "code",
   "execution_count": 7,
   "id": "84fce2c1",
   "metadata": {},
   "outputs": [
    {
     "name": "stdout",
     "output_type": "stream",
     "text": [
      "Sample Mean: 5.094\n",
      "Sample Variance: 4.913164\n"
     ]
    }
   ],
   "source": [
    "import numpy as np\n",
    "\n",
    "# Set the parameters\n",
    "mean = 5\n",
    "sample_size = 1000\n",
    "\n",
    "# Generate a random sample from a Poisson distribution\n",
    "poisson_sample = np.random.poisson(mean, sample_size)\n",
    "\n",
    "# Calculate the sample mean and variance\n",
    "sample_mean = np.mean(poisson_sample)\n",
    "sample_variance = np.var(poisson_sample)\n",
    "\n",
    "print(f\"Sample Mean: {sample_mean}\")\n",
    "print(f\"Sample Variance: {sample_variance}\")\n"
   ]
  },
  {
   "cell_type": "markdown",
   "id": "4c9d4ce5",
   "metadata": {},
   "source": [
    "# Q9. How mean and variance are related in Binomial distribution and Poisson distribution?"
   ]
  },
  {
   "cell_type": "markdown",
   "id": "d820a944",
   "metadata": {},
   "source": [
    "The relationship between the mean (expected value) and variance in the Binomial distribution and the Poisson distribution is as follows:\n",
    "\n",
    "**Binomial Distribution:**\n",
    "\n",
    "In a Binomial distribution with parameters 'n' (the number of trials) and 'p' (the probability of success on each trial), the mean and variance are related as follows:\n",
    "\n",
    "1. Mean (μ) = n * p\n",
    "2. Variance (σ^2) = n * p * (1 - p)\n",
    "\n",
    "In the Binomial distribution, the variance depends on both the number of trials 'n' and the probability of success 'p.' The product of 'n' and 'p' determines the mean, and the variance is influenced by both 'n' and 'p' as well. As 'n' increases while keeping 'p' constant, the variance tends to increase.\n",
    "\n",
    "**Poisson Distribution:**\n",
    "\n",
    "In a Poisson distribution with parameter 'λ' (the average rate of event occurrences in a fixed interval), the mean and variance are related as follows:\n",
    "\n",
    "1. Mean (μ) = λ\n",
    "2. Variance (σ^2) = λ\n",
    "\n",
    "In the Poisson distribution, the mean and variance are both equal to the parameter 'λ.' This means that the variance in a Poisson distribution is solely determined by the mean. The Poisson distribution is often used to model rare events, and the mean represents the average number of events in a given interval. Because rare events tend to be relatively unpredictable, the variance is approximately equal to the mean.\n",
    "\n",
    "In summary, the relationship between mean and variance in these two distributions is different. In the Binomial distribution, the variance is influenced by both the number of trials and the probability of success, while in the Poisson distribution, the variance is solely determined by the mean, making it a simpler and more predictable distribution for modeling rare events."
   ]
  },
  {
   "cell_type": "markdown",
   "id": "3ce2ca6f",
   "metadata": {},
   "source": [
    "# Q10. In normal distribution with respect to mean position, where does the least frequent data appear?"
   ]
  },
  {
   "cell_type": "markdown",
   "id": "afc74529",
   "metadata": {},
   "source": [
    "In a normal distribution, the least frequent data points appear in the tails of the distribution, farthest from the mean. The normal distribution is a symmetric probability distribution with a bell-shaped curve, and its probability density is highest at the mean.\n",
    "\n",
    "Here's how the least frequent data points are distributed with respect to the mean in a normal distribution:\n",
    "\n",
    "1. **Least Frequent Data Points:** Data points that are located in the tails of the normal distribution, i.e., the extreme high or low values, are the least frequent. These data points are farthest from the mean.\n",
    "\n",
    "2. **Mean Position:** The mean of the normal distribution is the point of highest frequency, and the curve is symmetrically distributed around the mean. In a standard normal distribution (mean = 0 and standard deviation = 1), the mean is at the center of the curve, and the tails extend infinitely in both directions.\n",
    "\n",
    "3. **Probability Decrease:** As you move away from the mean towards the tails, the probability of observing data points decreases. The farther you move from the mean, the less likely you are to encounter data points in those regions.\n",
    "\n",
    "In practical terms, data points located close to the mean are the most common and have a higher probability of occurrence, while data points in the tails of the distribution are less frequent and have lower probabilities associated with them. This is a fundamental characteristic of the normal distribution, and it's often used in statistics to describe the distribution of many natural phenomena."
   ]
  },
  {
   "cell_type": "code",
   "execution_count": null,
   "id": "44db8853",
   "metadata": {},
   "outputs": [],
   "source": []
  }
 ],
 "metadata": {
  "kernelspec": {
   "display_name": "Python 3 (ipykernel)",
   "language": "python",
   "name": "python3"
  },
  "language_info": {
   "codemirror_mode": {
    "name": "ipython",
    "version": 3
   },
   "file_extension": ".py",
   "mimetype": "text/x-python",
   "name": "python",
   "nbconvert_exporter": "python",
   "pygments_lexer": "ipython3",
   "version": "3.10.9"
  }
 },
 "nbformat": 4,
 "nbformat_minor": 5
}
